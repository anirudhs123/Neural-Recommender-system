{
  "nbformat": 4,
  "nbformat_minor": 0,
  "metadata": {
    "colab": {
      "name": "Transaction_Based_Reco_sys_NE.ipynb",
      "provenance": [],
      "collapsed_sections": []
    },
    "kernelspec": {
      "name": "python3",
      "display_name": "Python 3"
    }
  },
  "cells": [
    {
      "cell_type": "code",
      "metadata": {
        "id": "6uOXxP1bT4Z5",
        "colab_type": "code",
        "colab": {
          "base_uri": "https://localhost:8080/",
          "height": 141
        },
        "outputId": "2aea667f-ea89-47db-d94d-d7a05598ef6e"
      },
      "source": [
        " !git clone https://github.com/xiangwang1223/neural_graph_collaborative_filtering.git"
      ],
      "execution_count": 1,
      "outputs": [
        {
          "output_type": "stream",
          "text": [
            "Cloning into 'neural_graph_collaborative_filtering'...\n",
            "remote: Enumerating objects: 9, done.\u001b[K\n",
            "remote: Counting objects:  11% (1/9)\u001b[K\rremote: Counting objects:  22% (2/9)\u001b[K\rremote: Counting objects:  33% (3/9)\u001b[K\rremote: Counting objects:  44% (4/9)\u001b[K\rremote: Counting objects:  55% (5/9)\u001b[K\rremote: Counting objects:  66% (6/9)\u001b[K\rremote: Counting objects:  77% (7/9)\u001b[K\rremote: Counting objects:  88% (8/9)\u001b[K\rremote: Counting objects: 100% (9/9)\u001b[K\rremote: Counting objects: 100% (9/9), done.\u001b[K\n",
            "remote: Compressing objects: 100% (9/9), done.\u001b[K\n",
            "remote: Total 225 (delta 2), reused 0 (delta 0), pack-reused 216\u001b[K\n",
            "Receiving objects: 100% (225/225), 11.76 MiB | 16.14 MiB/s, done.\n",
            "Resolving deltas: 100% (71/71), done.\n"
          ],
          "name": "stdout"
        }
      ]
    },
    {
      "cell_type": "code",
      "metadata": {
        "id": "K_rSQoq2T_BE",
        "colab_type": "code",
        "colab": {}
      },
      "source": [
        "def read_file(path):\n",
        "  f=open(path,'r')\n",
        "  data=f.readlines()\n",
        "  return(data)"
      ],
      "execution_count": 2,
      "outputs": []
    },
    {
      "cell_type": "code",
      "metadata": {
        "id": "AozKq-DEUYca",
        "colab_type": "code",
        "colab": {}
      },
      "source": [
        "items_list=read_file('/content/neural_graph_collaborative_filtering/Data/amazon-book/item_list.txt')\n",
        "user_list=read_file('/content/neural_graph_collaborative_filtering/Data/amazon-book/user_list.txt')"
      ],
      "execution_count": 3,
      "outputs": []
    },
    {
      "cell_type": "code",
      "metadata": {
        "id": "9CHgASPJUf9B",
        "colab_type": "code",
        "colab": {}
      },
      "source": [
        ""
      ],
      "execution_count": 26,
      "outputs": []
    },
    {
      "cell_type": "code",
      "metadata": {
        "id": "jxHo8YbIUjOk",
        "colab_type": "code",
        "colab": {}
      },
      "source": [
        "orig_id=[]\n",
        "remap_id=[]\n",
        "for i in range(1,len(items_list)):\n",
        "  orig_id.append(items_list[i].split()[0])\n",
        "  remap_id.append(items_list[i].split()[1])"
      ],
      "execution_count": 4,
      "outputs": []
    },
    {
      "cell_type": "code",
      "metadata": {
        "id": "QGkl4q1mU3IZ",
        "colab_type": "code",
        "colab": {}
      },
      "source": [
        "import pandas as pd\n",
        "orig_id_df=pd.DataFrame(orig_id,columns=['orig_id'])\n",
        "remap_id_df=pd.DataFrame(remap_id,columns=['remap_id'])\n",
        "items_df=pd.concat([remap_id_df,orig_id_df],axis=1)"
      ],
      "execution_count": 5,
      "outputs": []
    },
    {
      "cell_type": "code",
      "metadata": {
        "id": "pdr1XRqMVhaZ",
        "colab_type": "code",
        "colab": {}
      },
      "source": [
        "#items_df"
      ],
      "execution_count": 6,
      "outputs": []
    },
    {
      "cell_type": "code",
      "metadata": {
        "id": "SZbamwIyViZl",
        "colab_type": "code",
        "colab": {}
      },
      "source": [
        ""
      ],
      "execution_count": 9,
      "outputs": []
    },
    {
      "cell_type": "code",
      "metadata": {
        "id": "XHycZyFJVv1V",
        "colab_type": "code",
        "colab": {}
      },
      "source": [
        "user_orig_id=[]\n",
        "user_remap_id=[]\n",
        "for i in range(1,len(user_list)):\n",
        "  user_orig_id.append(user_list[i].split()[0])\n",
        "  user_remap_id.append(user_list[i].split()[1])"
      ],
      "execution_count": 6,
      "outputs": []
    },
    {
      "cell_type": "code",
      "metadata": {
        "id": "Ya9DnU-VWR3Y",
        "colab_type": "code",
        "colab": {}
      },
      "source": [
        "import pandas as pd\n",
        "user_orig_id_df=pd.DataFrame(user_orig_id,columns=['orig_id'])\n",
        "user_remap_id_df=pd.DataFrame(user_remap_id,columns=['remap_id'])\n",
        "user_df=pd.concat([user_remap_id_df,user_orig_id_df],axis=1)"
      ],
      "execution_count": 7,
      "outputs": []
    },
    {
      "cell_type": "code",
      "metadata": {
        "id": "mSoxIQ6GWdI-",
        "colab_type": "code",
        "colab": {}
      },
      "source": [
        "#user_df"
      ],
      "execution_count": 8,
      "outputs": []
    },
    {
      "cell_type": "code",
      "metadata": {
        "id": "sKk3cHqUWeJY",
        "colab_type": "code",
        "colab": {}
      },
      "source": [
        "data_train=read_file('/content/neural_graph_collaborative_filtering/Data/amazon-book/train.txt')\n",
        "data_test=read_file('/content/neural_graph_collaborative_filtering/Data/amazon-book/test.txt')"
      ],
      "execution_count": 9,
      "outputs": []
    },
    {
      "cell_type": "code",
      "metadata": {
        "id": "9Vo1YonLXoze",
        "colab_type": "code",
        "colab": {
          "base_uri": "https://localhost:8080/",
          "height": 34
        },
        "outputId": "c1d518d5-ef20-40b9-fc4e-41f1dfb65bee"
      },
      "source": [
        "len(data_train)"
      ],
      "execution_count": 9,
      "outputs": [
        {
          "output_type": "execute_result",
          "data": {
            "text/plain": [
              "52643"
            ]
          },
          "metadata": {
            "tags": []
          },
          "execution_count": 9
        }
      ]
    },
    {
      "cell_type": "code",
      "metadata": {
        "id": "coG4mhE7XqAQ",
        "colab_type": "code",
        "colab": {}
      },
      "source": [
        "#Using all the 90k odd items is crashing the RAM hence restrict to 10k\n",
        "n_users=1000\n",
        "n_items=10000"
      ],
      "execution_count": 10,
      "outputs": []
    },
    {
      "cell_type": "code",
      "metadata": {
        "id": "s9KjJ4fgXwxx",
        "colab_type": "code",
        "colab": {}
      },
      "source": [
        "import numpy as np\n",
        "X_matrix=np.zeros((n_users,10000))\n",
        "y_matrix=np.zeros((n_users,10000))"
      ],
      "execution_count": 11,
      "outputs": []
    },
    {
      "cell_type": "code",
      "metadata": {
        "id": "8de7D5QfYCkl",
        "colab_type": "code",
        "colab": {}
      },
      "source": [
        "#Making Data Train, Data Test\n",
        "for i in range(len(data_train)):\n",
        "  data_train[i]=data_train[i].split()\n",
        "  for j in range(len(data_train[i])):\n",
        "    data_train[i][j]=int(data_train[i][j])\n",
        "\n",
        "for i in range(len(data_test)):\n",
        "  data_test[i]=data_test[i].split()\n",
        "  for j in range(len(data_test[i])):\n",
        "    data_test[i][j]=int(data_test[i][j])    "
      ],
      "execution_count": 11,
      "outputs": []
    },
    {
      "cell_type": "code",
      "metadata": {
        "id": "Q0DFXs1qYMUT",
        "colab_type": "code",
        "colab": {
          "base_uri": "https://localhost:8080/",
          "height": 34
        },
        "outputId": "f135532a-8fa3-4a15-ad9e-74589730e0c1"
      },
      "source": [
        "import random\n",
        "import numpy as np\n",
        "np.random.randint(1,1000)"
      ],
      "execution_count": 13,
      "outputs": [
        {
          "output_type": "execute_result",
          "data": {
            "text/plain": [
              "363"
            ]
          },
          "metadata": {
            "tags": []
          },
          "execution_count": 13
        }
      ]
    },
    {
      "cell_type": "code",
      "metadata": {
        "id": "nPo_phtaCFft",
        "colab_type": "code",
        "colab": {}
      },
      "source": [
        "user_lis=[]\n",
        "item_lis=[]\n",
        "rating=[]\n",
        "for i in range(1000):\n",
        "  for j in range(1,len(data_train[i])):\n",
        "    if(data_train[i][j]<10000):\n",
        "      user_lis.append(i)\n",
        "      item_lis.append(data_train[i][j])\n",
        "      rating.append(1)"
      ],
      "execution_count": 49,
      "outputs": []
    },
    {
      "cell_type": "code",
      "metadata": {
        "id": "IYGfrerxMUca",
        "colab_type": "code",
        "colab": {
          "base_uri": "https://localhost:8080/",
          "height": 34
        },
        "outputId": "69a7a655-aa3e-4f33-e0f1-2be8832c6dca"
      },
      "source": [
        "len(user_lis),len(item_lis)"
      ],
      "execution_count": 50,
      "outputs": [
        {
          "output_type": "execute_result",
          "data": {
            "text/plain": [
              "(50592, 50592)"
            ]
          },
          "metadata": {
            "tags": []
          },
          "execution_count": 50
        }
      ]
    },
    {
      "cell_type": "code",
      "metadata": {
        "id": "Lejf0SU3G3g5",
        "colab_type": "code",
        "colab": {}
      },
      "source": [
        "for i in range(1000):\n",
        "  for j in range(1,len(data_train[i])):\n",
        "    temp=np.random.randint(0,max(data_train[i]))\n",
        "    if( temp not in data_train[i][1:] and temp<10000):\n",
        "      #print('Hi')\n",
        "      user_lis.append(i)\n",
        "      item_lis.append(temp)\n",
        "      rating.append(0)"
      ],
      "execution_count": 51,
      "outputs": []
    },
    {
      "cell_type": "code",
      "metadata": {
        "id": "NDbcF31DG3na",
        "colab_type": "code",
        "colab": {
          "base_uri": "https://localhost:8080/",
          "height": 34
        },
        "outputId": "1a3aa360-ab36-4c47-aa8e-8fddf9b3cc3d"
      },
      "source": [
        "len(user_lis),len(item_lis)"
      ],
      "execution_count": 52,
      "outputs": [
        {
          "output_type": "execute_result",
          "data": {
            "text/plain": [
              "(96163, 96163)"
            ]
          },
          "metadata": {
            "tags": []
          },
          "execution_count": 52
        }
      ]
    },
    {
      "cell_type": "code",
      "metadata": {
        "id": "6-N78z6lG3rT",
        "colab_type": "code",
        "colab": {}
      },
      "source": [
        "user_lis_test=[]\n",
        "item_lis_test=[]\n",
        "rating_test=[]\n",
        "for i in range(1000):\n",
        "  for j in range(1,len(data_test[i])):\n",
        "    if(data_test[i][j]< 10000):\n",
        "      user_lis_test.append(i)\n",
        "      item_lis_test.append(data_test[i][j])\n",
        "      rating_test.append(1)"
      ],
      "execution_count": 53,
      "outputs": []
    },
    {
      "cell_type": "code",
      "metadata": {
        "id": "B1vnqDWQMd56",
        "colab_type": "code",
        "colab": {
          "base_uri": "https://localhost:8080/",
          "height": 34
        },
        "outputId": "733c0b95-eee2-4ab9-feac-4e19cc2141b0"
      },
      "source": [
        "len(user_lis_test),len(item_lis_test)"
      ],
      "execution_count": 54,
      "outputs": [
        {
          "output_type": "execute_result",
          "data": {
            "text/plain": [
              "(8898, 8898)"
            ]
          },
          "metadata": {
            "tags": []
          },
          "execution_count": 54
        }
      ]
    },
    {
      "cell_type": "code",
      "metadata": {
        "id": "Uin1ed1DMGFD",
        "colab_type": "code",
        "colab": {}
      },
      "source": [
        "for i in range(1000):\n",
        "  for j in range(1,len(data_test[i])):\n",
        "    temp=np.random.randint(0,max(data_test[i]))\n",
        "    if( temp not in data_test[i][1:] and temp<10000):\n",
        "      #print('Hi')\n",
        "      user_lis_test.append(i)\n",
        "      item_lis_test.append(temp)\n",
        "      rating_test.append(0)"
      ],
      "execution_count": 55,
      "outputs": []
    },
    {
      "cell_type": "code",
      "metadata": {
        "id": "9CgxtqbMG3kQ",
        "colab_type": "code",
        "colab": {
          "base_uri": "https://localhost:8080/",
          "height": 34
        },
        "outputId": "a1b26007-a741-477c-8713-37f16a458a81"
      },
      "source": [
        "len(user_lis_test),len(item_lis_test)"
      ],
      "execution_count": 56,
      "outputs": [
        {
          "output_type": "execute_result",
          "data": {
            "text/plain": [
              "(13871, 13871)"
            ]
          },
          "metadata": {
            "tags": []
          },
          "execution_count": 56
        }
      ]
    },
    {
      "cell_type": "code",
      "metadata": {
        "id": "dBJrv8l1GgGY",
        "colab_type": "code",
        "colab": {}
      },
      "source": [
        "net_user=user_lis+user_lis_test\n",
        "net_item=item_lis+item_lis_test\n",
        "net_rating=rating+rating_test"
      ],
      "execution_count": 57,
      "outputs": []
    },
    {
      "cell_type": "code",
      "metadata": {
        "id": "Nl5qiwdSM1Ia",
        "colab_type": "code",
        "colab": {}
      },
      "source": [
        "net_user_df=pd.DataFrame(net_user,columns=['user'])\n",
        "net_item_df=pd.DataFrame(net_item,columns=['item'])\n",
        "net_rating_df=pd.DataFrame(net_rating,columns=['rating'])"
      ],
      "execution_count": 58,
      "outputs": []
    },
    {
      "cell_type": "code",
      "metadata": {
        "id": "9Ki6KYdqM1N1",
        "colab_type": "code",
        "colab": {}
      },
      "source": [
        "ratings=pd.concat([net_user_df,net_item_df,net_rating_df],axis=1)"
      ],
      "execution_count": 59,
      "outputs": []
    },
    {
      "cell_type": "code",
      "metadata": {
        "id": "DyCVO7OhM1Tr",
        "colab_type": "code",
        "colab": {
          "base_uri": "https://localhost:8080/",
          "height": 406
        },
        "outputId": "d918a6f7-580b-4ed4-d4aa-3966c389ebaa"
      },
      "source": [
        "ratings"
      ],
      "execution_count": 60,
      "outputs": [
        {
          "output_type": "execute_result",
          "data": {
            "text/html": [
              "<div>\n",
              "<style scoped>\n",
              "    .dataframe tbody tr th:only-of-type {\n",
              "        vertical-align: middle;\n",
              "    }\n",
              "\n",
              "    .dataframe tbody tr th {\n",
              "        vertical-align: top;\n",
              "    }\n",
              "\n",
              "    .dataframe thead th {\n",
              "        text-align: right;\n",
              "    }\n",
              "</style>\n",
              "<table border=\"1\" class=\"dataframe\">\n",
              "  <thead>\n",
              "    <tr style=\"text-align: right;\">\n",
              "      <th></th>\n",
              "      <th>user</th>\n",
              "      <th>item</th>\n",
              "      <th>rating</th>\n",
              "    </tr>\n",
              "  </thead>\n",
              "  <tbody>\n",
              "    <tr>\n",
              "      <th>0</th>\n",
              "      <td>0</td>\n",
              "      <td>0</td>\n",
              "      <td>1</td>\n",
              "    </tr>\n",
              "    <tr>\n",
              "      <th>1</th>\n",
              "      <td>0</td>\n",
              "      <td>1</td>\n",
              "      <td>1</td>\n",
              "    </tr>\n",
              "    <tr>\n",
              "      <th>2</th>\n",
              "      <td>0</td>\n",
              "      <td>2</td>\n",
              "      <td>1</td>\n",
              "    </tr>\n",
              "    <tr>\n",
              "      <th>3</th>\n",
              "      <td>0</td>\n",
              "      <td>3</td>\n",
              "      <td>1</td>\n",
              "    </tr>\n",
              "    <tr>\n",
              "      <th>4</th>\n",
              "      <td>0</td>\n",
              "      <td>4</td>\n",
              "      <td>1</td>\n",
              "    </tr>\n",
              "    <tr>\n",
              "      <th>...</th>\n",
              "      <td>...</td>\n",
              "      <td>...</td>\n",
              "      <td>...</td>\n",
              "    </tr>\n",
              "    <tr>\n",
              "      <th>110029</th>\n",
              "      <td>998</td>\n",
              "      <td>3925</td>\n",
              "      <td>0</td>\n",
              "    </tr>\n",
              "    <tr>\n",
              "      <th>110030</th>\n",
              "      <td>998</td>\n",
              "      <td>888</td>\n",
              "      <td>0</td>\n",
              "    </tr>\n",
              "    <tr>\n",
              "      <th>110031</th>\n",
              "      <td>998</td>\n",
              "      <td>5024</td>\n",
              "      <td>0</td>\n",
              "    </tr>\n",
              "    <tr>\n",
              "      <th>110032</th>\n",
              "      <td>999</td>\n",
              "      <td>3843</td>\n",
              "      <td>0</td>\n",
              "    </tr>\n",
              "    <tr>\n",
              "      <th>110033</th>\n",
              "      <td>999</td>\n",
              "      <td>6892</td>\n",
              "      <td>0</td>\n",
              "    </tr>\n",
              "  </tbody>\n",
              "</table>\n",
              "<p>110034 rows × 3 columns</p>\n",
              "</div>"
            ],
            "text/plain": [
              "        user  item  rating\n",
              "0          0     0       1\n",
              "1          0     1       1\n",
              "2          0     2       1\n",
              "3          0     3       1\n",
              "4          0     4       1\n",
              "...      ...   ...     ...\n",
              "110029   998  3925       0\n",
              "110030   998   888       0\n",
              "110031   998  5024       0\n",
              "110032   999  3843       0\n",
              "110033   999  6892       0\n",
              "\n",
              "[110034 rows x 3 columns]"
            ]
          },
          "metadata": {
            "tags": []
          },
          "execution_count": 60
        }
      ]
    },
    {
      "cell_type": "code",
      "metadata": {
        "id": "sxxZPA0zM1Re",
        "colab_type": "code",
        "colab": {
          "base_uri": "https://localhost:8080/",
          "height": 141
        },
        "outputId": "f4af5d6e-f4b4-4220-c993-3d02550bc47a"
      },
      "source": [
        "X = ratings[['user', 'item']].values\n",
        "y = ratings['rating'].values\n",
        "X,y"
      ],
      "execution_count": 63,
      "outputs": [
        {
          "output_type": "execute_result",
          "data": {
            "text/plain": [
              "(array([[   0,    0],\n",
              "        [   0,    1],\n",
              "        [   0,    2],\n",
              "        ...,\n",
              "        [ 998, 5024],\n",
              "        [ 999, 3843],\n",
              "        [ 999, 6892]]), array([1, 1, 1, ..., 0, 0, 0]))"
            ]
          },
          "metadata": {
            "tags": []
          },
          "execution_count": 63
        }
      ]
    },
    {
      "cell_type": "code",
      "metadata": {
        "id": "1NZ0-3oEM1Ls",
        "colab_type": "code",
        "colab": {
          "base_uri": "https://localhost:8080/",
          "height": 34
        },
        "outputId": "06b6a40c-85e8-4883-e4aa-12a034c4017b"
      },
      "source": [
        "X_train=X[:96163]\n",
        "y_train=y[:96163]\n",
        "X_test=X[96163:]\n",
        "y_test=y[96163:]\n",
        "#X_train, X_test, y_train, y_test = train_test_split(X, y, test_size=0.1, random_state=42)\n",
        "X_train.shape, X_test.shape, y_train.shape, y_test.shape"
      ],
      "execution_count": 65,
      "outputs": [
        {
          "output_type": "execute_result",
          "data": {
            "text/plain": [
              "((96163, 2), (13871, 2), (96163,), (13871,))"
            ]
          },
          "metadata": {
            "tags": []
          },
          "execution_count": 65
        }
      ]
    },
    {
      "cell_type": "code",
      "metadata": {
        "id": "O7pW23Eyct95",
        "colab_type": "code",
        "colab": {},
        "cellView": "form"
      },
      "source": [
        "#@title not needed\n",
        "#Filling X_matrix and y_matrix\n",
        "for i in range(n_users):\n",
        "  for j in data_train[i][1:]:\n",
        "    if(j<10000):\n",
        "      X_matrix[i][j]=1\n",
        "\n",
        "for i in range(n_users):\n",
        "  for j in data_test[i][1:]:\n",
        "    if(j<10000):\n",
        "      y_matrix[i][j]=1\n",
        "\n",
        "from sklearn.model_selection import train_test_split\n",
        "X_train,X_test,y_train,y_test=train_test_split(X_matrix,y_matrix,test_size=0.2,random_state=42)      "
      ],
      "execution_count": 13,
      "outputs": []
    },
    {
      "cell_type": "code",
      "metadata": {
        "id": "QVeKzk5UgE3V",
        "colab_type": "code",
        "colab": {}
      },
      "source": [
        ""
      ],
      "execution_count": 63,
      "outputs": []
    },
    {
      "cell_type": "code",
      "metadata": {
        "id": "9s4amF-mgx7v",
        "colab_type": "code",
        "colab": {}
      },
      "source": [
        ""
      ],
      "execution_count": 14,
      "outputs": []
    },
    {
      "cell_type": "code",
      "metadata": {
        "id": "2u37C_7hidKn",
        "colab_type": "code",
        "colab": {}
      },
      "source": [
        "X_train_array = [X_train[:, 0], X_train[:, 1]]\n",
        "X_test_array = [X_test[:, 0], X_test[:, 1]]"
      ],
      "execution_count": 75,
      "outputs": []
    },
    {
      "cell_type": "code",
      "metadata": {
        "id": "2ptx0YXEi-ZX",
        "colab_type": "code",
        "colab": {}
      },
      "source": [
        "from keras.layers import LSTM,Dense,Embedding,Conv1D,Reshape,Dot,Add,Activation\n",
        "from keras.layers import LeakyReLU,ReLU\n",
        "from keras.optimizers import Adam \n",
        "from keras.models import Model,Input\n",
        "from keras.callbacks import ModelCheckpoint\n",
        "from keras.regularizers import l2"
      ],
      "execution_count": 92,
      "outputs": []
    },
    {
      "cell_type": "code",
      "metadata": {
        "id": "rsn3ZQ7jOi4b",
        "colab_type": "code",
        "colab": {}
      },
      "source": [
        ""
      ],
      "execution_count": null,
      "outputs": []
    },
    {
      "cell_type": "code",
      "metadata": {
        "id": "ZgaokSkGOi1a",
        "colab_type": "code",
        "colab": {}
      },
      "source": [
        "n_users=1000\n",
        "n_movies=10000"
      ],
      "execution_count": 70,
      "outputs": []
    },
    {
      "cell_type": "code",
      "metadata": {
        "id": "334Ic2xTjnbh",
        "colab_type": "code",
        "colab": {
          "base_uri": "https://localhost:8080/",
          "height": 674
        },
        "outputId": "2bcf53a3-9a6f-4585-ea84-81c00ee619e8"
      },
      "source": [
        "user=Input(shape=(1,))\n",
        "u=Embedding(n_users,256,embeddings_initializer='he_uniform')(user)\n",
        "u=Reshape((256,))(u)\n",
        "ub=Embedding(n_users,1,embeddings_initializer='he_uniform')(user)\n",
        "ub=Reshape((1,))(ub)\n",
        "\n",
        "movie=Input(shape=(1,))\n",
        "m=Embedding(n_movies,256,embeddings_initializer='he_uniform')(movie)\n",
        "m=Reshape((256,))(m)\n",
        "\n",
        "mb=Embedding(n_movies,1,embeddings_initializer='he_uniform')(movie)\n",
        "mb=Reshape((1,))(mb)\n",
        "\n",
        "x=Dot(axes=1)([u,m])\n",
        "x = Add()([x, ub, mb])\n",
        "x = Activation('sigmoid')(x)\n",
        "\n",
        "#x=Conv1D(256,kernel_size=3,padding='valid')(x)\n",
        "#x=LSTM(512,recurrent_initializer='glorot_uniform')([x ub mb])\n",
        "#x=Dense(64,activation='relu')(x)\n",
        "#out=Dense(1,activation='sigmoid')(x)\n",
        "\n",
        "model=Model(inputs=[user, movie] ,outputs=[x])\n",
        "model.compile(optimizer=Adam(lr=0.001),loss='mean_squared_error')\n",
        "model.summary()\n",
        "\n",
        "\n"
      ],
      "execution_count": 87,
      "outputs": [
        {
          "output_type": "stream",
          "text": [
            "Model: \"model_5\"\n",
            "__________________________________________________________________________________________________\n",
            "Layer (type)                    Output Shape         Param #     Connected to                     \n",
            "==================================================================================================\n",
            "input_17 (InputLayer)           (None, 1)            0                                            \n",
            "__________________________________________________________________________________________________\n",
            "input_18 (InputLayer)           (None, 1)            0                                            \n",
            "__________________________________________________________________________________________________\n",
            "embedding_30 (Embedding)        (None, 1, 256)       256000      input_17[0][0]                   \n",
            "__________________________________________________________________________________________________\n",
            "embedding_32 (Embedding)        (None, 1, 256)       2560000     input_18[0][0]                   \n",
            "__________________________________________________________________________________________________\n",
            "reshape_16 (Reshape)            (None, 256)          0           embedding_30[0][0]               \n",
            "__________________________________________________________________________________________________\n",
            "reshape_18 (Reshape)            (None, 256)          0           embedding_32[0][0]               \n",
            "__________________________________________________________________________________________________\n",
            "embedding_31 (Embedding)        (None, 1, 1)         1000        input_17[0][0]                   \n",
            "__________________________________________________________________________________________________\n",
            "embedding_33 (Embedding)        (None, 1, 1)         10000       input_18[0][0]                   \n",
            "__________________________________________________________________________________________________\n",
            "dot_7 (Dot)                     (None, 1)            0           reshape_16[0][0]                 \n",
            "                                                                 reshape_18[0][0]                 \n",
            "__________________________________________________________________________________________________\n",
            "reshape_17 (Reshape)            (None, 1)            0           embedding_31[0][0]               \n",
            "__________________________________________________________________________________________________\n",
            "reshape_19 (Reshape)            (None, 1)            0           embedding_33[0][0]               \n",
            "__________________________________________________________________________________________________\n",
            "add_6 (Add)                     (None, 1)            0           dot_7[0][0]                      \n",
            "                                                                 reshape_17[0][0]                 \n",
            "                                                                 reshape_19[0][0]                 \n",
            "__________________________________________________________________________________________________\n",
            "activation_4 (Activation)       (None, 1)            0           add_6[0][0]                      \n",
            "==================================================================================================\n",
            "Total params: 2,827,000\n",
            "Trainable params: 2,827,000\n",
            "Non-trainable params: 0\n",
            "__________________________________________________________________________________________________\n"
          ],
          "name": "stdout"
        }
      ]
    },
    {
      "cell_type": "markdown",
      "metadata": {
        "id": "RM9NZy9fQ7q7",
        "colab_type": "text"
      },
      "source": [
        ""
      ]
    },
    {
      "cell_type": "code",
      "metadata": {
        "id": "EerL3zmUQr13",
        "colab_type": "code",
        "colab": {}
      },
      "source": [
        ""
      ],
      "execution_count": 84,
      "outputs": []
    },
    {
      "cell_type": "code",
      "metadata": {
        "id": "a12P-EP1kftx",
        "colab_type": "code",
        "colab": {
          "base_uri": "https://localhost:8080/",
          "height": 285
        },
        "outputId": "112a2d29-d70b-4de4-8d21-cf6f907ce91d"
      },
      "source": [
        "model.fit(X_train_array,y_train,batch_size=32,epochs=5, verbose=1 ,validation_data=(X_test_array,y_test))"
      ],
      "execution_count": 88,
      "outputs": [
        {
          "output_type": "stream",
          "text": [
            "/usr/local/lib/python3.6/dist-packages/tensorflow/python/framework/indexed_slices.py:434: UserWarning: Converting sparse IndexedSlices to a dense Tensor of unknown shape. This may consume a large amount of memory.\n",
            "  \"Converting sparse IndexedSlices to a dense Tensor of unknown shape. \"\n"
          ],
          "name": "stderr"
        },
        {
          "output_type": "stream",
          "text": [
            "Train on 96163 samples, validate on 13871 samples\n",
            "Epoch 1/5\n",
            "96163/96163 [==============================] - 103s 1ms/step - loss: 0.2320 - val_loss: 0.2147\n",
            "Epoch 2/5\n",
            "96163/96163 [==============================] - 102s 1ms/step - loss: 0.0993 - val_loss: 0.1962\n",
            "Epoch 3/5\n",
            "96163/96163 [==============================] - 103s 1ms/step - loss: 0.0170 - val_loss: 0.1981\n",
            "Epoch 4/5\n",
            "96163/96163 [==============================] - 103s 1ms/step - loss: 0.0025 - val_loss: 0.1989\n",
            "Epoch 5/5\n",
            "96163/96163 [==============================] - 105s 1ms/step - loss: 4.5323e-04 - val_loss: 0.2010\n"
          ],
          "name": "stdout"
        },
        {
          "output_type": "execute_result",
          "data": {
            "text/plain": [
              "<keras.callbacks.callbacks.History at 0x7ff56e09fbe0>"
            ]
          },
          "metadata": {
            "tags": []
          },
          "execution_count": 88
        }
      ]
    },
    {
      "cell_type": "code",
      "metadata": {
        "id": "6MtKCGgonhuK",
        "colab_type": "code",
        "colab": {}
      },
      "source": [
        "#Direct Dot product similarity between Movies and Users\n",
        "def RecommenderV1(n_users, n_movies, n_factors):\n",
        "    user = Input(shape=(1,))\n",
        "    u = Embedding(n_users, n_factors, embeddings_initializer='he_normal',\n",
        "                  embeddings_regularizer=l2(1e-6))(user)\n",
        "    u = Reshape((n_factors,))(u)\n",
        "    \n",
        "    movie = Input(shape=(1,))\n",
        "    m = Embedding(n_movies, n_factors, embeddings_initializer='he_normal',\n",
        "                  embeddings_regularizer=l2(1e-6))(movie)\n",
        "    m = Reshape((n_factors,))(m)\n",
        "    \n",
        "    x = Dot(axes=1)([u, m])\n",
        "    model = Model(inputs=[user, movie], outputs=x)\n",
        "    opt = Adam(lr=0.001)\n",
        "    model.compile(loss='mean_squared_error', optimizer=opt)\n",
        "    return model"
      ],
      "execution_count": 93,
      "outputs": []
    },
    {
      "cell_type": "code",
      "metadata": {
        "id": "EOJbqmGQSdKu",
        "colab_type": "code",
        "colab": {
          "base_uri": "https://localhost:8080/",
          "height": 425
        },
        "outputId": "b27e0387-f6ee-4538-b15d-d1ef7dba50ae"
      },
      "source": [
        "model = RecommenderV1(n_users, n_movies, n_factors=256)\n",
        "model.summary()"
      ],
      "execution_count": 94,
      "outputs": [
        {
          "output_type": "stream",
          "text": [
            "Model: \"model_6\"\n",
            "__________________________________________________________________________________________________\n",
            "Layer (type)                    Output Shape         Param #     Connected to                     \n",
            "==================================================================================================\n",
            "input_20 (InputLayer)           (None, 1)            0                                            \n",
            "__________________________________________________________________________________________________\n",
            "input_21 (InputLayer)           (None, 1)            0                                            \n",
            "__________________________________________________________________________________________________\n",
            "embedding_34 (Embedding)        (None, 1, 256)       256000      input_20[0][0]                   \n",
            "__________________________________________________________________________________________________\n",
            "embedding_35 (Embedding)        (None, 1, 256)       2560000     input_21[0][0]                   \n",
            "__________________________________________________________________________________________________\n",
            "reshape_20 (Reshape)            (None, 256)          0           embedding_34[0][0]               \n",
            "__________________________________________________________________________________________________\n",
            "reshape_21 (Reshape)            (None, 256)          0           embedding_35[0][0]               \n",
            "__________________________________________________________________________________________________\n",
            "dot_8 (Dot)                     (None, 1)            0           reshape_20[0][0]                 \n",
            "                                                                 reshape_21[0][0]                 \n",
            "==================================================================================================\n",
            "Total params: 2,816,000\n",
            "Trainable params: 2,816,000\n",
            "Non-trainable params: 0\n",
            "__________________________________________________________________________________________________\n"
          ],
          "name": "stdout"
        }
      ]
    },
    {
      "cell_type": "code",
      "metadata": {
        "id": "gCYMBd9luQpv",
        "colab_type": "code",
        "colab": {
          "base_uri": "https://localhost:8080/",
          "height": 267
        },
        "outputId": "7b236585-709c-4c5a-e5e6-b5d0178d19da"
      },
      "source": [
        "historyV1 = model.fit(x=X_train_array, y=y_train, batch_size=64, epochs=5,\n",
        "                    verbose=1, validation_data=(X_test_array, y_test))"
      ],
      "execution_count": 95,
      "outputs": [
        {
          "output_type": "stream",
          "text": [
            "/usr/local/lib/python3.6/dist-packages/tensorflow/python/framework/indexed_slices.py:434: UserWarning: Converting sparse IndexedSlices to a dense Tensor of unknown shape. This may consume a large amount of memory.\n",
            "  \"Converting sparse IndexedSlices to a dense Tensor of unknown shape. \"\n"
          ],
          "name": "stderr"
        },
        {
          "output_type": "stream",
          "text": [
            "Train on 96163 samples, validate on 13871 samples\n",
            "Epoch 1/5\n",
            "96163/96163 [==============================] - 67s 695us/step - loss: 0.4245 - val_loss: 0.2775\n",
            "Epoch 2/5\n",
            "96163/96163 [==============================] - 65s 681us/step - loss: 0.1121 - val_loss: 0.2384\n",
            "Epoch 3/5\n",
            "96163/96163 [==============================] - 64s 666us/step - loss: 0.0344 - val_loss: 0.2409\n",
            "Epoch 4/5\n",
            "96163/96163 [==============================] - 64s 663us/step - loss: 0.0276 - val_loss: 0.2431\n",
            "Epoch 5/5\n",
            "96163/96163 [==============================] - 64s 667us/step - loss: 0.0383 - val_loss: 0.2442\n"
          ],
          "name": "stdout"
        }
      ]
    },
    {
      "cell_type": "code",
      "metadata": {
        "id": "zVEfj1M51yOn",
        "colab_type": "code",
        "colab": {}
      },
      "source": [
        "#Adding Bias to the Embedding layers and Concatenating The dot product with individual vectors\n",
        "from keras.layers import Add, Activation, Lambda\n",
        "\n",
        "class EmbeddingLayer:\n",
        "    def __init__(self, n_items, n_factors):\n",
        "        self.n_items = n_items\n",
        "        self.n_factors = n_factors\n",
        "    \n",
        "    def __call__(self, x):\n",
        "        x = Embedding(self.n_items, self.n_factors, embeddings_initializer='he_normal',\n",
        "                      embeddings_regularizer=l2(1e-6))(x)\n",
        "        x = Reshape((self.n_factors,))(x)\n",
        "        return x\n",
        "\n",
        "#Concat the user and movie matrix and pass into Dense layers\n",
        "from keras.layers import Concatenate, Dense, Dropout\n",
        "def RecommenderNet(n_users, n_movies, n_factors, min_rating, max_rating):\n",
        "    user = Input(shape=(1,))\n",
        "    u = EmbeddingLayer(n_users, n_factors)(user)\n",
        "    \n",
        "    movie = Input(shape=(1,))\n",
        "    m = EmbeddingLayer(n_movies, n_factors)(movie)\n",
        "    \n",
        "    x = Concatenate()([u, m])\n",
        "    x = Dropout(0.05)(x)\n",
        "    \n",
        "    x = Dense(10, kernel_initializer='he_normal')(x)\n",
        "    x = Activation('relu')(x)\n",
        "    x = Dropout(0.5)(x)\n",
        "    \n",
        "    x = Dense(1, kernel_initializer='he_normal')(x)\n",
        "    x = Activation('sigmoid')(x)\n",
        "    x = Lambda(lambda x: x * (max_rating - min_rating) + min_rating)(x)\n",
        "    model = Model(inputs=[user, movie], outputs=x)\n",
        "    opt = Adam(lr=0.001)\n",
        "    model.compile(loss='mean_squared_error', optimizer=opt)\n",
        "    return model"
      ],
      "execution_count": 96,
      "outputs": []
    },
    {
      "cell_type": "code",
      "metadata": {
        "id": "1laf2LVm1_Jx",
        "colab_type": "code",
        "colab": {
          "base_uri": "https://localhost:8080/",
          "height": 674
        },
        "outputId": "9bda66c2-1a91-408e-bfec-dcd6dd21fc75"
      },
      "source": [
        "model = RecommenderNet(n_users, n_movies, n_factors=256, min_rating=0, max_rating=1)\n",
        "model.summary()"
      ],
      "execution_count": 97,
      "outputs": [
        {
          "output_type": "stream",
          "text": [
            "Model: \"model_7\"\n",
            "__________________________________________________________________________________________________\n",
            "Layer (type)                    Output Shape         Param #     Connected to                     \n",
            "==================================================================================================\n",
            "input_22 (InputLayer)           (None, 1)            0                                            \n",
            "__________________________________________________________________________________________________\n",
            "input_23 (InputLayer)           (None, 1)            0                                            \n",
            "__________________________________________________________________________________________________\n",
            "embedding_36 (Embedding)        (None, 1, 256)       256000      input_22[0][0]                   \n",
            "__________________________________________________________________________________________________\n",
            "embedding_37 (Embedding)        (None, 1, 256)       2560000     input_23[0][0]                   \n",
            "__________________________________________________________________________________________________\n",
            "reshape_22 (Reshape)            (None, 256)          0           embedding_36[0][0]               \n",
            "__________________________________________________________________________________________________\n",
            "reshape_23 (Reshape)            (None, 256)          0           embedding_37[0][0]               \n",
            "__________________________________________________________________________________________________\n",
            "concatenate_1 (Concatenate)     (None, 512)          0           reshape_22[0][0]                 \n",
            "                                                                 reshape_23[0][0]                 \n",
            "__________________________________________________________________________________________________\n",
            "dropout_1 (Dropout)             (None, 512)          0           concatenate_1[0][0]              \n",
            "__________________________________________________________________________________________________\n",
            "dense_2 (Dense)                 (None, 10)           5130        dropout_1[0][0]                  \n",
            "__________________________________________________________________________________________________\n",
            "activation_5 (Activation)       (None, 10)           0           dense_2[0][0]                    \n",
            "__________________________________________________________________________________________________\n",
            "dropout_2 (Dropout)             (None, 10)           0           activation_5[0][0]               \n",
            "__________________________________________________________________________________________________\n",
            "dense_3 (Dense)                 (None, 1)            11          dropout_2[0][0]                  \n",
            "__________________________________________________________________________________________________\n",
            "activation_6 (Activation)       (None, 1)            0           dense_3[0][0]                    \n",
            "__________________________________________________________________________________________________\n",
            "lambda_1 (Lambda)               (None, 1)            0           activation_6[0][0]               \n",
            "==================================================================================================\n",
            "Total params: 2,821,141\n",
            "Trainable params: 2,821,141\n",
            "Non-trainable params: 0\n",
            "__________________________________________________________________________________________________\n"
          ],
          "name": "stdout"
        }
      ]
    },
    {
      "cell_type": "code",
      "metadata": {
        "id": "jqkN2zXXS3-0",
        "colab_type": "code",
        "colab": {
          "base_uri": "https://localhost:8080/",
          "height": 267
        },
        "outputId": "ac2624ed-8b7e-4189-fce4-5abae829d0b6"
      },
      "source": [
        "history = model.fit(x=X_train_array, y=y_train, batch_size=64, epochs=5,\n",
        "                    verbose=1, validation_data=(X_test_array, y_test))"
      ],
      "execution_count": 98,
      "outputs": [
        {
          "output_type": "stream",
          "text": [
            "/usr/local/lib/python3.6/dist-packages/tensorflow/python/framework/indexed_slices.py:434: UserWarning: Converting sparse IndexedSlices to a dense Tensor of unknown shape. This may consume a large amount of memory.\n",
            "  \"Converting sparse IndexedSlices to a dense Tensor of unknown shape. \"\n"
          ],
          "name": "stderr"
        },
        {
          "output_type": "stream",
          "text": [
            "Train on 96163 samples, validate on 13871 samples\n",
            "Epoch 1/5\n",
            "96163/96163 [==============================] - 65s 675us/step - loss: 0.2327 - val_loss: 0.2188\n",
            "Epoch 2/5\n",
            "96163/96163 [==============================] - 67s 693us/step - loss: 0.2090 - val_loss: 0.2202\n",
            "Epoch 3/5\n",
            "96163/96163 [==============================] - 67s 692us/step - loss: 0.1989 - val_loss: 0.2229\n",
            "Epoch 4/5\n",
            "96163/96163 [==============================] - 68s 702us/step - loss: 0.1938 - val_loss: 0.2271\n",
            "Epoch 5/5\n",
            "96163/96163 [==============================] - 67s 700us/step - loss: 0.1901 - val_loss: 0.2315\n"
          ],
          "name": "stdout"
        }
      ]
    },
    {
      "cell_type": "code",
      "metadata": {
        "id": "aObCTZ1bS4En",
        "colab_type": "code",
        "colab": {
          "base_uri": "https://localhost:8080/",
          "height": 532
        },
        "outputId": "44b180b3-b8ca-40ef-ec76-5eedc9195172"
      },
      "source": [
        "import matplotlib.pyplot as plt\n",
        "epochs=np.arange(1,6)\n",
        "plt.figure(1)\n",
        "plt.plot(epochs,history.history['loss'])\n",
        "plt.figure(2)\n",
        "plt.plot(epochs,history.history['val_loss'])"
      ],
      "execution_count": 100,
      "outputs": [
        {
          "output_type": "execute_result",
          "data": {
            "text/plain": [
              "[<matplotlib.lines.Line2D at 0x7ff56ce0ea90>]"
            ]
          },
          "metadata": {
            "tags": []
          },
          "execution_count": 100
        },
        {
          "output_type": "display_data",
          "data": {
            "image/png": "[encoded data removed]",
            "text/plain": [
              "<Figure size 432x288 with 1 Axes>"
            ]
          },
          "metadata": {
            "tags": [],
            "needs_background": "light"
          }
        },
        {
          "output_type": "display_data",
          "data": {
            "image/png": "[encoded data removed]",
            "text/plain": [
              "<Figure size 432x288 with 1 Axes>"
            ]
          },
          "metadata": {
            "tags": [],
            "needs_background": "light"
          }
        }
      ]
    },
    {
      "cell_type": "code",
      "metadata": {
        "id": "X9x1sEnIS4Km",
        "colab_type": "code",
        "colab": {}
      },
      "source": [
        "#RNN based network instead of Dense layer\n",
        "from keras.layers import Concatenate, Dense, Dropout,LSTM\n",
        "def RecommenderRNN(n_users, n_movies, n_factors, min_rating, max_rating):\n",
        "    user = Input(shape=(1,))\n",
        "    u = Embedding(n_users, n_factors)(user)\n",
        "    \n",
        "    movie = Input(shape=(1,))\n",
        "    m = Embedding(n_movies, n_factors)(movie)\n",
        "    \n",
        "    x = Concatenate()([u, m])\n",
        "    x = Dropout(0.05)(x)\n",
        "    \n",
        "    x=LSTM(50,recurrent_initializer='glorot_uniform')(x)\n",
        "    x = Dropout(0.5)(x)\n",
        "    \n",
        "    x = Dense(1, kernel_initializer='he_normal')(x)\n",
        "    x = Activation('sigmoid')(x)\n",
        "    x = Lambda(lambda x: x * (max_rating - min_rating) + min_rating)(x)\n",
        "    model = Model(inputs=[user, movie], outputs=x)\n",
        "    opt = Adam(lr=0.001)\n",
        "    model.compile(loss='mean_squared_error', optimizer=opt)\n",
        "    return model"
      ],
      "execution_count": 115,
      "outputs": []
    },
    {
      "cell_type": "code",
      "metadata": {
        "id": "hPvVqnbWS4JK",
        "colab_type": "code",
        "colab": {
          "base_uri": "https://localhost:8080/",
          "height": 567
        },
        "outputId": "f67a4bb7-d638-460c-dd3c-4c95c20ce8fc"
      },
      "source": [
        "model = RecommenderRNN(n_users, n_movies, n_factors=256, min_rating=0, max_rating=1)\n",
        "model.summary()"
      ],
      "execution_count": 116,
      "outputs": [
        {
          "output_type": "stream",
          "text": [
            "Model: \"model_8\"\n",
            "__________________________________________________________________________________________________\n",
            "Layer (type)                    Output Shape         Param #     Connected to                     \n",
            "==================================================================================================\n",
            "input_36 (InputLayer)           (None, 1)            0                                            \n",
            "__________________________________________________________________________________________________\n",
            "input_37 (InputLayer)           (None, 1)            0                                            \n",
            "__________________________________________________________________________________________________\n",
            "embedding_50 (Embedding)        (None, 1, 256)       256000      input_36[0][0]                   \n",
            "__________________________________________________________________________________________________\n",
            "embedding_51 (Embedding)        (None, 1, 256)       2560000     input_37[0][0]                   \n",
            "__________________________________________________________________________________________________\n",
            "concatenate_8 (Concatenate)     (None, 1, 512)       0           embedding_50[0][0]               \n",
            "                                                                 embedding_51[0][0]               \n",
            "__________________________________________________________________________________________________\n",
            "dropout_11 (Dropout)            (None, 1, 512)       0           concatenate_8[0][0]              \n",
            "__________________________________________________________________________________________________\n",
            "lstm_6 (LSTM)                   (None, 50)           112600      dropout_11[0][0]                 \n",
            "__________________________________________________________________________________________________\n",
            "dropout_12 (Dropout)            (None, 50)           0           lstm_6[0][0]                     \n",
            "__________________________________________________________________________________________________\n",
            "dense_6 (Dense)                 (None, 1)            51          dropout_12[0][0]                 \n",
            "__________________________________________________________________________________________________\n",
            "activation_7 (Activation)       (None, 1)            0           dense_6[0][0]                    \n",
            "__________________________________________________________________________________________________\n",
            "lambda_2 (Lambda)               (None, 1)            0           activation_7[0][0]               \n",
            "==================================================================================================\n",
            "Total params: 2,928,651\n",
            "Trainable params: 2,928,651\n",
            "Non-trainable params: 0\n",
            "__________________________________________________________________________________________________\n"
          ],
          "name": "stdout"
        }
      ]
    },
    {
      "cell_type": "code",
      "metadata": {
        "id": "YhEvmnKhS4B9",
        "colab_type": "code",
        "colab": {
          "base_uri": "https://localhost:8080/",
          "height": 267
        },
        "outputId": "0831bcba-0fd3-4fe1-c008-2e75a73cce14"
      },
      "source": [
        "history = model.fit(x=X_train_array, y=y_train, batch_size=64, epochs=5,\n",
        "                    verbose=1, validation_data=(X_test_array, y_test))"
      ],
      "execution_count": 117,
      "outputs": [
        {
          "output_type": "stream",
          "text": [
            "/usr/local/lib/python3.6/dist-packages/tensorflow/python/framework/indexed_slices.py:434: UserWarning: Converting sparse IndexedSlices to a dense Tensor of unknown shape. This may consume a large amount of memory.\n",
            "  \"Converting sparse IndexedSlices to a dense Tensor of unknown shape. \"\n"
          ],
          "name": "stderr"
        },
        {
          "output_type": "stream",
          "text": [
            "Train on 96163 samples, validate on 13871 samples\n",
            "Epoch 1/5\n",
            "96163/96163 [==============================] - 59s 613us/step - loss: 0.2265 - val_loss: 0.2131\n",
            "Epoch 2/5\n",
            "96163/96163 [==============================] - 59s 612us/step - loss: 0.1938 - val_loss: 0.2086\n",
            "Epoch 3/5\n",
            "96163/96163 [==============================] - 58s 608us/step - loss: 0.1743 - val_loss: 0.2103\n",
            "Epoch 4/5\n",
            "96163/96163 [==============================] - 59s 610us/step - loss: 0.1551 - val_loss: 0.2116\n",
            "Epoch 5/5\n",
            "96163/96163 [==============================] - 59s 614us/step - loss: 0.1390 - val_loss: 0.2183\n"
          ],
          "name": "stdout"
        }
      ]
    },
    {
      "cell_type": "code",
      "metadata": {
        "id": "P6QFXaQLTFlo",
        "colab_type": "code",
        "colab": {
          "base_uri": "https://localhost:8080/",
          "height": 531
        },
        "outputId": "c239375c-976d-4235-9203-0dd774d7db2d"
      },
      "source": [
        "epochs=np.arange(1,6)\n",
        "plt.figure(1)\n",
        "plt.plot(epochs,history.history['loss'])\n",
        "plt.figure(2)\n",
        "plt.plot(epochs,history.history['val_loss'])"
      ],
      "execution_count": 118,
      "outputs": [
        {
          "output_type": "execute_result",
          "data": {
            "text/plain": [
              "[<matplotlib.lines.Line2D at 0x7ff56c3a0898>]"
            ]
          },
          "metadata": {
            "tags": []
          },
          "execution_count": 118
        },
        {
          "output_type": "display_data",
          "data": {
            "image/png": "[encoded data removed]",
            "text/plain": [
              "<Figure size 432x288 with 1 Axes>"
            ]
          },
          "metadata": {
            "tags": [],
            "needs_background": "light"
          }
        },
        {
          "output_type": "display_data",
          "data": {
            "image/png": "[encoded data removed]",
            "text/plain": [
              "<Figure size 432x288 with 1 Axes>"
            ]
          },
          "metadata": {
            "tags": [],
            "needs_background": "light"
          }
        }
      ]
    },
    {
      "cell_type": "code",
      "metadata": {
        "id": "i4BUZKS-TFrj",
        "colab_type": "code",
        "colab": {}
      },
      "source": [
        "# Deep and wide network\n",
        "from keras.layers import Concatenate, Dense, Dropout,LSTM\n",
        "def RecommenderDeepWide(n_users, n_movies, n_factors, min_rating, max_rating):\n",
        "    user = Input(shape=(1,))\n",
        "    u = Embedding(n_users, n_factors)(user)\n",
        "    \n",
        "    movie = Input(shape=(1,))\n",
        "    m = Embedding(n_movies, n_factors)(movie)\n",
        "    \n",
        "    x1 = Concatenate()([user, movie])\n",
        "    j=Dense(2,kernel_initializer='he_normal')(x1)\n",
        "    j = Activation('relu')(j)\n",
        "    j = Dropout(0.5)(j)\n",
        "\n",
        "    x = Concatenate()([u,m])\n",
        "    x = Dropout(0.05)(x)\n",
        "    \n",
        "    x=LSTM(100,recurrent_initializer='glorot_uniform')(x)\n",
        "    x = Dropout(0.5)(x)\n",
        "    \n",
        "    #x=[x,j]\n",
        "    x = Concatenate()([x,j])\n",
        "    \n",
        "    x = Dense(1, kernel_initializer='he_normal')(x)\n",
        "    x = Activation('sigmoid')(x)\n",
        "    x = Lambda(lambda x: x * (max_rating - min_rating) + min_rating)(x)\n",
        "    model = Model(inputs=[user, movie], outputs=x)\n",
        "    opt = Adam(lr=0.001)\n",
        "    model.compile(loss='mean_squared_error', optimizer=opt)\n",
        "    model.summary()\n",
        "    return model"
      ],
      "execution_count": 131,
      "outputs": []
    },
    {
      "cell_type": "code",
      "metadata": {
        "id": "_P3uYSN7TFwS",
        "colab_type": "code",
        "colab": {
          "base_uri": "https://localhost:8080/",
          "height": 781
        },
        "outputId": "f01a14ac-26c2-43d2-bc3f-4434cd91b5fe"
      },
      "source": [
        "model = RecommenderDeepWide(n_users, n_movies,n_factors=256, min_rating=0, max_rating=1)\n"
      ],
      "execution_count": 132,
      "outputs": [
        {
          "output_type": "stream",
          "text": [
            "Model: \"model_9\"\n",
            "__________________________________________________________________________________________________\n",
            "Layer (type)                    Output Shape         Param #     Connected to                     \n",
            "==================================================================================================\n",
            "input_50 (InputLayer)           (None, 1)            0                                            \n",
            "__________________________________________________________________________________________________\n",
            "input_51 (InputLayer)           (None, 1)            0                                            \n",
            "__________________________________________________________________________________________________\n",
            "embedding_64 (Embedding)        (None, 1, 256)       256000      input_50[0][0]                   \n",
            "__________________________________________________________________________________________________\n",
            "embedding_65 (Embedding)        (None, 1, 256)       2560000     input_51[0][0]                   \n",
            "__________________________________________________________________________________________________\n",
            "concatenate_20 (Concatenate)    (None, 1, 512)       0           embedding_64[0][0]               \n",
            "                                                                 embedding_65[0][0]               \n",
            "__________________________________________________________________________________________________\n",
            "concatenate_19 (Concatenate)    (None, 2)            0           input_50[0][0]                   \n",
            "                                                                 input_51[0][0]                   \n",
            "__________________________________________________________________________________________________\n",
            "dropout_27 (Dropout)            (None, 1, 512)       0           concatenate_20[0][0]             \n",
            "__________________________________________________________________________________________________\n",
            "dense_14 (Dense)                (None, 2)            6           concatenate_19[0][0]             \n",
            "__________________________________________________________________________________________________\n",
            "lstm_11 (LSTM)                  (None, 100)          245200      dropout_27[0][0]                 \n",
            "__________________________________________________________________________________________________\n",
            "activation_13 (Activation)      (None, 2)            0           dense_14[0][0]                   \n",
            "__________________________________________________________________________________________________\n",
            "dropout_28 (Dropout)            (None, 100)          0           lstm_11[0][0]                    \n",
            "__________________________________________________________________________________________________\n",
            "dropout_26 (Dropout)            (None, 2)            0           activation_13[0][0]              \n",
            "__________________________________________________________________________________________________\n",
            "concatenate_21 (Concatenate)    (None, 102)          0           dropout_28[0][0]                 \n",
            "                                                                 dropout_26[0][0]                 \n",
            "__________________________________________________________________________________________________\n",
            "dense_15 (Dense)                (None, 1)            103         concatenate_21[0][0]             \n",
            "__________________________________________________________________________________________________\n",
            "activation_14 (Activation)      (None, 1)            0           dense_15[0][0]                   \n",
            "__________________________________________________________________________________________________\n",
            "lambda_3 (Lambda)               (None, 1)            0           activation_14[0][0]              \n",
            "==================================================================================================\n",
            "Total params: 3,061,309\n",
            "Trainable params: 3,061,309\n",
            "Non-trainable params: 0\n",
            "__________________________________________________________________________________________________\n"
          ],
          "name": "stdout"
        }
      ]
    },
    {
      "cell_type": "code",
      "metadata": {
        "id": "Pxo9LljgTFpq",
        "colab_type": "code",
        "colab": {
          "base_uri": "https://localhost:8080/",
          "height": 105
        },
        "outputId": "2e27226b-46d4-4057-bb78-ed548daa479e"
      },
      "source": [
        "history = model.fit(x=X_train_array, y=y_train, batch_size=64, epochs=2,\n",
        "                    verbose=1, validation_data=(X_test_array, y_test))"
      ],
      "execution_count": 135,
      "outputs": [
        {
          "output_type": "stream",
          "text": [
            "Train on 96163 samples, validate on 13871 samples\n",
            "Epoch 1/2\n",
            "96163/96163 [==============================] - 62s 645us/step - loss: 0.1507 - val_loss: 0.2226\n",
            "Epoch 2/2\n",
            "96163/96163 [==============================] - 61s 631us/step - loss: 0.1288 - val_loss: 0.2307\n"
          ],
          "name": "stdout"
        }
      ]
    },
    {
      "cell_type": "code",
      "metadata": {
        "id": "b_uuGZOIaj7o",
        "colab_type": "code",
        "colab": {}
      },
      "source": [
        ""
      ],
      "execution_count": null,
      "outputs": []
    }
  ]
}